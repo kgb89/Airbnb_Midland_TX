{
 "cells": [
  {
   "cell_type": "code",
   "execution_count": 6,
   "metadata": {},
   "outputs": [],
   "source": [
    "import pandas as pd\n",
    "import numpy as np\n",
    "import matplotlib.pyplot as plt\n",
    "import seaborn as sns\n",
    "%matplotlib inline\n",
    "import time\n",
    "import json\n",
    "import requests\n",
    "import airbnb\n",
    "api = airbnb.Api(randomize=True)"
   ]
  },
  {
   "cell_type": "code",
   "execution_count": 5,
   "metadata": {},
   "outputs": [
    {
     "data": {
      "text/plain": [
       "295"
      ]
     },
     "execution_count": 5,
     "metadata": {},
     "output_type": "execute_result"
    }
   ],
   "source": [
    "# Import data frame\n",
    "df = pd.read_csv('Midland_listings.csv')\n",
    "len(df['listing.id'])"
   ]
  },
  {
   "cell_type": "code",
   "execution_count": 34,
   "metadata": {},
   "outputs": [],
   "source": [
    "# Scrape calendar data\n",
    "\n",
    "calendar = []\n",
    "i = 0\n",
    "for i in range(50):\n",
    "    \n",
    "    calendar.append(api.get_calendar(df['listing.id'][i],starting_month=5,starting_year=2020,calendar_months=2))\n",
    "    i += 1\n",
    "    time.sleep(1)"
   ]
  },
  {
   "cell_type": "code",
   "execution_count": 35,
   "metadata": {},
   "outputs": [],
   "source": [
    "for i in range(50,100):\n",
    "    \n",
    "    calendar.append(api.get_calendar(df['listing.id'][i],starting_month=5,starting_year=2020,calendar_months=2))\n",
    "    i += 1\n",
    "    time.sleep(1)"
   ]
  },
  {
   "cell_type": "code",
   "execution_count": 36,
   "metadata": {},
   "outputs": [],
   "source": [
    "for i in range(100,150):\n",
    "    \n",
    "    calendar.append(api.get_calendar(df['listing.id'][i],starting_month=5,starting_year=2020,calendar_months=2))\n",
    "    i += 1\n",
    "    time.sleep(1)"
   ]
  },
  {
   "cell_type": "code",
   "execution_count": 37,
   "metadata": {},
   "outputs": [],
   "source": [
    "for i in range(150,200):\n",
    "    \n",
    "    calendar.append(api.get_calendar(df['listing.id'][i],starting_month=5,starting_year=2020,calendar_months=2))\n",
    "    i += 1\n",
    "    time.sleep(1)"
   ]
  },
  {
   "cell_type": "code",
   "execution_count": 38,
   "metadata": {},
   "outputs": [],
   "source": [
    "for i in range(200,250):\n",
    "    \n",
    "    calendar.append(api.get_calendar(df['listing.id'][i],starting_month=5,starting_year=2020,calendar_months=2))\n",
    "    i += 1\n",
    "    time.sleep(1)"
   ]
  },
  {
   "cell_type": "code",
   "execution_count": 48,
   "metadata": {},
   "outputs": [],
   "source": [
    "i = 250\n",
    "for i in range(251,260):\n",
    "    \n",
    "    calendar.append(api.get_calendar(df['listing.id'][i],starting_month=5,starting_year=2020,calendar_months=2))\n",
    "    i += 1\n",
    "    time.sleep(1)"
   ]
  },
  {
   "cell_type": "code",
   "execution_count": 49,
   "metadata": {},
   "outputs": [],
   "source": [
    "\n",
    "for i in range(261,295):\n",
    "    \n",
    "    calendar.append(api.get_calendar(df['listing.id'][i],starting_month=5,starting_year=2020,calendar_months=2))\n",
    "    i += 1\n",
    "    time.sleep(1)"
   ]
  },
  {
   "cell_type": "code",
   "execution_count": 50,
   "metadata": {},
   "outputs": [],
   "source": [
    "# Write JSON to file Calendar.json\n",
    "\n",
    "with open('Calendar.json','w',encoding='utf-8') as f:\n",
    "    json.dump(calendar, f, sort_keys=True, indent = 4, ensure_ascii = False)"
   ]
  },
  {
   "cell_type": "code",
   "execution_count": 51,
   "metadata": {},
   "outputs": [],
   "source": [
    "# Create 'response' json object\n",
    "\n",
    "with open('Calendar.json') as f:\n",
    "    calendar = json.load(f)\n",
    "    f.close()"
   ]
  },
  {
   "cell_type": "code",
   "execution_count": null,
   "metadata": {},
   "outputs": [],
   "source": []
  },
  {
   "cell_type": "code",
   "execution_count": 52,
   "metadata": {},
   "outputs": [],
   "source": [
    "df_cal_temp = pd.json_normalize(calendar, ['calendar_months'])"
   ]
  },
  {
   "cell_type": "code",
   "execution_count": 53,
   "metadata": {},
   "outputs": [],
   "source": [
    "# Vectorization\n",
    "\n",
    "def my_func(row):\n",
    "\n",
    "    temp_df = pd.json_normalize(row['days'])\n",
    "    temp_df['listing.id'] = row['listing_id']\n",
    "    return temp_df"
   ]
  },
  {
   "cell_type": "code",
   "execution_count": 54,
   "metadata": {},
   "outputs": [],
   "source": [
    "df_cal = df_cal_temp.apply(my_func,axis=1)"
   ]
  },
  {
   "cell_type": "code",
   "execution_count": 61,
   "metadata": {},
   "outputs": [
    {
     "data": {
      "text/html": [
       "<div>\n",
       "<style scoped>\n",
       "    .dataframe tbody tr th:only-of-type {\n",
       "        vertical-align: middle;\n",
       "    }\n",
       "\n",
       "    .dataframe tbody tr th {\n",
       "        vertical-align: top;\n",
       "    }\n",
       "\n",
       "    .dataframe thead th {\n",
       "        text-align: right;\n",
       "    }\n",
       "</style>\n",
       "<table border=\"1\" class=\"dataframe\">\n",
       "  <thead>\n",
       "    <tr style=\"text-align: right;\">\n",
       "      <th></th>\n",
       "      <th>listing.id</th>\n",
       "      <th>date</th>\n",
       "      <th>available</th>\n",
       "      <th>min_nights</th>\n",
       "      <th>max_nights</th>\n",
       "    </tr>\n",
       "  </thead>\n",
       "  <tbody>\n",
       "    <tr>\n",
       "      <th>0</th>\n",
       "      <td>42664313</td>\n",
       "      <td>2020-04-26</td>\n",
       "      <td>False</td>\n",
       "      <td>1</td>\n",
       "      <td>1125</td>\n",
       "    </tr>\n",
       "    <tr>\n",
       "      <th>1</th>\n",
       "      <td>42664313</td>\n",
       "      <td>2020-04-27</td>\n",
       "      <td>False</td>\n",
       "      <td>1</td>\n",
       "      <td>1125</td>\n",
       "    </tr>\n",
       "    <tr>\n",
       "      <th>2</th>\n",
       "      <td>42664313</td>\n",
       "      <td>2020-04-28</td>\n",
       "      <td>False</td>\n",
       "      <td>1</td>\n",
       "      <td>1125</td>\n",
       "    </tr>\n",
       "    <tr>\n",
       "      <th>3</th>\n",
       "      <td>42664313</td>\n",
       "      <td>2020-04-29</td>\n",
       "      <td>False</td>\n",
       "      <td>1</td>\n",
       "      <td>1125</td>\n",
       "    </tr>\n",
       "    <tr>\n",
       "      <th>4</th>\n",
       "      <td>42664313</td>\n",
       "      <td>2020-04-30</td>\n",
       "      <td>False</td>\n",
       "      <td>1</td>\n",
       "      <td>1125</td>\n",
       "    </tr>\n",
       "    <tr>\n",
       "      <th>...</th>\n",
       "      <td>...</td>\n",
       "      <td>...</td>\n",
       "      <td>...</td>\n",
       "      <td>...</td>\n",
       "      <td>...</td>\n",
       "    </tr>\n",
       "    <tr>\n",
       "      <th>30</th>\n",
       "      <td>42670396</td>\n",
       "      <td>2020-06-30</td>\n",
       "      <td>True</td>\n",
       "      <td>6</td>\n",
       "      <td>14</td>\n",
       "    </tr>\n",
       "    <tr>\n",
       "      <th>31</th>\n",
       "      <td>42670396</td>\n",
       "      <td>2020-07-01</td>\n",
       "      <td>True</td>\n",
       "      <td>2</td>\n",
       "      <td>14</td>\n",
       "    </tr>\n",
       "    <tr>\n",
       "      <th>32</th>\n",
       "      <td>42670396</td>\n",
       "      <td>2020-07-02</td>\n",
       "      <td>True</td>\n",
       "      <td>2</td>\n",
       "      <td>14</td>\n",
       "    </tr>\n",
       "    <tr>\n",
       "      <th>33</th>\n",
       "      <td>42670396</td>\n",
       "      <td>2020-07-03</td>\n",
       "      <td>True</td>\n",
       "      <td>2</td>\n",
       "      <td>14</td>\n",
       "    </tr>\n",
       "    <tr>\n",
       "      <th>34</th>\n",
       "      <td>42670396</td>\n",
       "      <td>2020-07-04</td>\n",
       "      <td>True</td>\n",
       "      <td>2</td>\n",
       "      <td>14</td>\n",
       "    </tr>\n",
       "  </tbody>\n",
       "</table>\n",
       "<p>23870 rows × 5 columns</p>\n",
       "</div>"
      ],
      "text/plain": [
       "    listing.id        date  available  min_nights  max_nights\n",
       "0     42664313  2020-04-26      False           1        1125\n",
       "1     42664313  2020-04-27      False           1        1125\n",
       "2     42664313  2020-04-28      False           1        1125\n",
       "3     42664313  2020-04-29      False           1        1125\n",
       "4     42664313  2020-04-30      False           1        1125\n",
       "..         ...         ...        ...         ...         ...\n",
       "30    42670396  2020-06-30       True           6          14\n",
       "31    42670396  2020-07-01       True           2          14\n",
       "32    42670396  2020-07-02       True           2          14\n",
       "33    42670396  2020-07-03       True           2          14\n",
       "34    42670396  2020-07-04       True           2          14\n",
       "\n",
       "[23870 rows x 5 columns]"
      ]
     },
     "execution_count": 61,
     "metadata": {},
     "output_type": "execute_result"
    }
   ],
   "source": [
    "df_cal_new = pd.concat(df_cal.values)\n",
    "df_calendar = df_cal_new[['listing.id','date','available','min_nights','max_nights']]\n",
    "df_calendar"
   ]
  },
  {
   "cell_type": "code",
   "execution_count": 62,
   "metadata": {},
   "outputs": [],
   "source": [
    "# Create CSV\n",
    "df_calendar.to_csv('Calendar.csv',index=False)"
   ]
  },
  {
   "cell_type": "code",
   "execution_count": null,
   "metadata": {},
   "outputs": [],
   "source": []
  },
  {
   "cell_type": "code",
   "execution_count": null,
   "metadata": {},
   "outputs": [],
   "source": []
  },
  {
   "cell_type": "code",
   "execution_count": null,
   "metadata": {},
   "outputs": [],
   "source": []
  }
 ],
 "metadata": {
  "kernelspec": {
   "display_name": "Python 3",
   "language": "python",
   "name": "python3"
  },
  "language_info": {
   "codemirror_mode": {
    "name": "ipython",
    "version": 3
   },
   "file_extension": ".py",
   "mimetype": "text/x-python",
   "name": "python",
   "nbconvert_exporter": "python",
   "pygments_lexer": "ipython3",
   "version": "3.7.7"
  }
 },
 "nbformat": 4,
 "nbformat_minor": 4
}
